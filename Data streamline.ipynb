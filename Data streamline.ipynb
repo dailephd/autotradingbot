{
 "cells": [
  {
   "cell_type": "code",
   "execution_count": 1,
   "metadata": {
    "collapsed": true
   },
   "outputs": [
    {
     "name": "stdout",
     "output_type": "stream",
     "text": [
      "Dash is running on http://127.0.0.1:8050/\n",
      "\n",
      " * Serving Flask app \"__main__\" (lazy loading)\n",
      " * Environment: production\n",
      "\u001B[31m   WARNING: This is a development server. Do not use it in a production deployment.\u001B[0m\n",
      "\u001B[2m   Use a production WSGI server instead.\u001B[0m\n",
      " * Debug mode: on\n"
     ]
    }
   ],
   "source": [
    "'''API Parameters\n",
    "❚ Required: function\n",
    "The time series of your choice. In this case, function=TIME_SERIES_INTRADAY_EXTENDED\n",
    "❚ Required: symbol\n",
    "The name of the equity of your choice. For example: symbol=IBM\n",
    "❚ Required: interval\n",
    "Time interval between two consecutive data points in the time series.\n",
    "The following values are supported: 1min, 5min, 15min, 30min, 60min\n",
    "❚ Required: slice\n",
    "Two years of minute-level intraday data contains over 2 million data points, which can take up to Gigabytes of memory.\n",
    "To ensure optimal API response speed, the trailing 2 years of intraday data is evenly divided into 24 \"slices\" - year1month1, year1month2, year1month3, ..., year1month11, year1month12, year2month1, year2month2, year2month3, ..., year2month11, year2month12. Each slice is a 30-day window, with year1month1 being the most recent and year2month12 being the farthest from today. By default, slice=year1month1.\n",
    "❚ Optional: adjusted\n",
    "By default, adjusted=true and the output time series is adjusted by historical split and dividend events. Set adjusted=false to query raw (as-traded) intraday values.\n",
    "❚ Required: apikey\n",
    "Your API key. Claim your free API key here.\n",
    "Examples\n",
    "To ensure optimal API response time, this endpoint uses the CSV format which is more memory-efficient than JSON.\n",
    "\n",
    "Split/dividend-adjusted 15min intraday data for IBM covering the most recent 30 days (slice=year1month1):\n",
    "https://www.alphavantage.co/query?function=TIME_SERIES_INTRADAY_EXTENDED&symbol=IBM&interval=15min&slice=year1month1&apikey=demo\n",
    "\n",
    "Split/dividend-adjusted 15min intraday data for IBM covering the most recent day 31 through day 60 (slice=year1month2):\n",
    "https://www.alphavantage.co/query?function=TIME_SERIES_INTRADAY_EXTENDED&symbol=IBM&interval=15min&slice=year1month2&apikey=demo\n",
    "\n",
    "Raw (as-traded) 60min intraday data for IBM covering the most recent day 61 through day 90 (slice=year1month3):\n",
    "https://www.alphavantage.co/query?function=TIME_SERIES_INTRADAY_EXTENDED&symbol=IBM&interval=60min&slice=year1month3&adjusted=false&apikey=demo '''\n",
    "import csv\n",
    "import wget\n",
    "import pandas as pd\n",
    "import plotly.express as px\n",
    "import dash\n",
    "from dash.dependencies import *\n",
    "from dash import dcc\n",
    "from dash import html\n",
    "import datetime\n",
    "app = dash.Dash(__name__)\n",
    "app.layout = html.Div(\n",
    "    html.Div([\n",
    "        html.H4('EUR/USD'),\n",
    "        dcc.Graph(id='live-graph',animate=True),\n",
    "        dcc.Interval(\n",
    "            id='graph-update',\n",
    "            interval=1*1000*300, # in milliseconds\n",
    "            n_intervals=0\n",
    "            )\n",
    "        ])\n",
    "    )\n",
    "\n",
    "@app.callback(Output('live-graph', 'figure'),[Input('graph-update', 'n_intervals')])\n",
    "def getdata(n):\n",
    "    fromS = \"EUR\"\n",
    "    toS = \"USD\"\n",
    "    interval = \"5min\"\n",
    "    apikey = \"PU7EBSO3ACN7CDYI\"\n",
    "    url = 'https://www.alphavantage.co/query?function=FX_INTRADAY&from_symbol={}&to_symbol={}&interval={}&apikey={}&datatype=csv'.format(fromS,toS,interval,apikey)\n",
    "    df = pd.read_csv(wget.download(url, out = \"C:\\\\Temp\\\\\"+str(fromS)+str(toS)+str(datetime.datetime.now().timestamp())+\".csv\"))\n",
    "    fig = px.scatter(df,\n",
    "                            x = 'timestamp',\n",
    "                            y = 'open',\n",
    "                            width = 600,\n",
    "                            height = 400,\n",
    "                            template = \"plotly_dark\" )\n",
    "    fig.update_xaxes(title = 'Time')\n",
    "    fig.update_yaxes(title = 'Open')\n",
    "    fig.update_layout(title_text = \"Open Price of \" + str(fromS)+\"/\" +str(toS))\n",
    "    return fig\n",
    "if __name__ == '__main__':\n",
    "    app.run_server(debug=True, use_reloader=False)\n"
   ]
  }
 ],
 "metadata": {
  "kernelspec": {
   "name": "pycharm-ead4b3bf",
   "language": "python",
   "display_name": "PyCharm (pythonProject)"
  },
  "language_info": {
   "codemirror_mode": {
    "name": "ipython",
    "version": 2
   },
   "file_extension": ".py",
   "mimetype": "text/x-python",
   "name": "python",
   "nbconvert_exporter": "python",
   "pygments_lexer": "ipython2",
   "version": "2.7.6"
  }
 },
 "nbformat": 4,
 "nbformat_minor": 0
}